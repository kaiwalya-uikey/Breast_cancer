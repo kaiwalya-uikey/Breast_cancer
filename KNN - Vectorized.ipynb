{
 "cells": [
  {
   "cell_type": "code",
   "execution_count": 1,
   "metadata": {
    "collapsed": true
   },
   "outputs": [],
   "source": [
    "#includes\n",
    "import numpy as np\n",
    "from collections import Counter\n",
    "import pandas as pd\n",
    "import os\n",
    "import PIL.Image\n",
    "from operator import itemgetter"
   ]
  },
  {
   "cell_type": "code",
   "execution_count": 2,
   "metadata": {
    "collapsed": false
   },
   "outputs": [],
   "source": [
    "#knn class\n",
    "class KNeighborsClassifieR(object):\n",
    "\n",
    "    def __init__(self):\n",
    "        pass\n",
    "    #\"training\" function\n",
    "    def fit(self, X, y):\n",
    "        self.X_train = X\n",
    "        self.y_train = y\n",
    "\n",
    "    #predict function, output of this function is lis to\n",
    "    def predict(self, X_test, k=5):\n",
    "        distances = self.compute_distances(self.X_train, X_test)\n",
    "        vote_results = []\n",
    "        for i in range(len(distances)):\n",
    "            votesOneSample = []\n",
    "            for j in range(k):\n",
    "                votesOneSample.append(distances[i][j][1])\n",
    "            vote_results.append(Counter(votesOneSample).most_common(1)[0][0])\n",
    "\n",
    "        return vote_results\n",
    "\n",
    "\n",
    "    #For each sample and every item in test set algorithm is making tuple in distance list\n",
    "    #this is how list looks =>> distances = [[[distance, class],[distance, class],[distance, class],[distance, class]]]\n",
    "    #distances and sort\n",
    "    def compute_distances(self, X, X_test):\n",
    "        distances = []\n",
    "        for i in range(X_test.shape[0]):\n",
    "            euclidian_distances = np.linalg.norm(np.array(X_test[i])-np.array(X), axis=1)\n",
    "            euclidian_distances = np.array(euclidian_distances).reshape(X.shape[0], 1)\n",
    "            classes = np.array(self.y_train)\n",
    "            classes = classes.reshape(self.y_train.shape[0], 1)\n",
    "            distances_i = np.append(euclidian_distances, classes, axis=1) \n",
    "            \n",
    "            #Second part of each element is the class for particular element in y_train\n",
    "            distances.append(sorted(distances_i,key=itemgetter(0)))\n",
    "        return distances"
   ]
  },
  {
   "cell_type": "code",
   "execution_count": 3,
   "metadata": {
    "collapsed": true
   },
   "outputs": [],
   "source": [
    "#to check how much did algo predict right\n",
    "def accuracy(y_tes, y_pred):\n",
    "    correct = 0\n",
    "    for i in range(len(y_pred)):\n",
    "        if(y_tes[i] == y_pred[i]):\n",
    "            correct += 1\n",
    "    return (correct/len(y_tes))*100"
   ]
  },
  {
   "cell_type": "code",
   "execution_count": 4,
   "metadata": {
    "collapsed": true
   },
   "outputs": [],
   "source": [
    "def run():\n",
    "    # Importing the dataset\n",
    "    dataset = pd.read_csv('breastCancer.csv')\n",
    "    dataset.replace('?', -9999, inplace=True)\n",
    "    dataset = dataset.applymap(np.int64)\n",
    "    X = dataset.iloc[:, 1:-1].values\n",
    "    y = dataset.iloc[:, -1].values\n",
    "    \n",
    "    # Splitting the dataset into the Training set and Test set\n",
    "    from sklearn.model_selection import train_test_split\n",
    "    X_train, X_test, y_train, y_test = train_test_split(X, y, test_size = 0.25, random_state = 0)\n",
    "\n",
    "    # Feature Scaling\n",
    "#     from sklearn.preprocessing import StandardScaler\n",
    "#     sc = StandardScaler()\n",
    "#     X_train = sc.fit_transform(X_train)\n",
    "#     X_test = sc.transform(X_test)\n",
    "    \n",
    "    classifier = KNeighborsClassifieR()\n",
    "    classifier.fit(X_train, y_train)\n",
    "    y_pred = classifier.predict(X_test)\n",
    "    print(\"My KNN accuracy: \",accuracy(y_test, y_pred),'%')\n",
    "    "
   ]
  },
  {
   "cell_type": "code",
   "execution_count": 5,
   "metadata": {
    "collapsed": false
   },
   "outputs": [
    {
     "name": "stdout",
     "output_type": "stream",
     "text": [
      "My KNN accuracy:  97.71428571428571 %\n",
      "Run time: 0.758 s\n"
     ]
    }
   ],
   "source": [
    "from time import time\n",
    "t0 = time()\n",
    "run()\n",
    "print (\"Run time:\", round(time()-t0, 3), \"s\")"
   ]
  },
  {
   "cell_type": "code",
   "execution_count": 6,
   "metadata": {
    "collapsed": true
   },
   "outputs": [],
   "source": [
    "def skLearnKNN():\n",
    "    # Importing the dataset\n",
    "    dataset = pd.read_csv('breastCancer.csv')\n",
    "    dataset.replace('?', 0, inplace=True)\n",
    "    dataset = dataset.applymap(np.int64)\n",
    "    X = dataset.iloc[:, 1:-1].values\n",
    "    y = dataset.iloc[:, -1].values\n",
    "    \n",
    "    # Splitting the dataset into the Training set and Test set\n",
    "    from sklearn.model_selection import train_test_split\n",
    "    X_train, X_test, y_train, y_test = train_test_split(X, y, test_size = 0.25, random_state = 0)\n",
    "\n",
    "    # Feature Scaling\n",
    "#     from sklearn.preprocessing import StandardScaler\n",
    "#     sc = StandardScaler()\n",
    "#     X_train = sc.fit_transform(X_train)\n",
    "#     X_test = sc.transform(X_test)\n",
    "    \n",
    "    from sklearn.neighbors import KNeighborsClassifier\n",
    "    classifier = KNeighborsClassifier()\n",
    "    classifier.fit(X_train, y_train)\n",
    "    y_pred = classifier.predict(X_test)\n",
    "    print(\"Sklearn accuracy: \", accuracy(y_test, y_pred),'%')"
   ]
  },
  {
   "cell_type": "code",
   "execution_count": 7,
   "metadata": {
    "collapsed": false
   },
   "outputs": [
    {
     "name": "stdout",
     "output_type": "stream",
     "text": [
      "Sklearn accuracy:  97.71428571428571 %\n",
      "Run time: 0.088 s\n"
     ]
    }
   ],
   "source": [
    "t0 = time()\n",
    "skLearnKNN()\n",
    "print (\"Run time:\", round(time()-t0, 3), \"s\")"
   ]
  }
 ],
 "metadata": {
  "anaconda-cloud": {},
  "kernelspec": {
   "display_name": "Python [default]",
   "language": "python",
   "name": "python3"
  },
  "language_info": {
   "codemirror_mode": {
    "name": "ipython",
    "version": 3
   },
   "file_extension": ".py",
   "mimetype": "text/x-python",
   "name": "python",
   "nbconvert_exporter": "python",
   "pygments_lexer": "ipython3",
   "version": "3.9.7"
  }
 },
 "nbformat": 4,
 "nbformat_minor": 1
}
